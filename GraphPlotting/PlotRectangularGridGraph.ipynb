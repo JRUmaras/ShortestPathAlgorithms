{
 "cells": [
  {
   "cell_type": "code",
   "execution_count": 48,
   "metadata": {},
   "outputs": [],
   "source": [
    "class Node:\n",
    "    def __init__(self, id, x, y):\n",
    "        self.Id = id\n",
    "        self.X = x\n",
    "        self.Y = y\n",
    "\n",
    "    def __str__(self):\n",
    "        return self.Id\n",
    "\n",
    "    def __repr__(self):\n",
    "        return str(self)\n",
    "\n",
    "class Edge:\n",
    "    def __init__(self, fromNode, toNode):\n",
    "        self.FromNode = fromNode\n",
    "        self.ToNode = toNode\n",
    "\n",
    "    def __str__(self):\n",
    "        return str(self.FromNode.Id) + '->' + str(self.ToNode.Id)\n",
    "\n",
    "    def __repr__(self):\n",
    "        return str(self)\n",
    "\n",
    "def ParseNode(data):\n",
    "    id = data[0]\n",
    "    x = float(data[1])\n",
    "    y = float(data[2])\n",
    "    return Node(id, x, y)\n",
    "\n",
    "def ParseEdge(data, nodesDict):\n",
    "    idFrom = data[0]\n",
    "    idTo = data[1]\n",
    "    return Edge(nodesDict[idFrom], nodesDict[idTo])\n",
    "\n",
    "file = open('Grids/rectangular_grid_graph_100x100.txt', 'r')\n",
    "lines = file.readlines()\n",
    "file.close()\n",
    "nodes = {}\n",
    "edges = []\n",
    "\n",
    "for line in lines:\n",
    "    data = line.split()\n",
    "    if len(data) == 3:\n",
    "        node = ParseNode(data)\n",
    "        nodes[node.Id] = node\n",
    "    elif len(data) == 2:\n",
    "        edge = ParseEdge(data, nodes)\n",
    "        edges.append(edge)"
   ]
  },
  {
   "cell_type": "code",
   "execution_count": 58,
   "metadata": {},
   "outputs": [],
   "source": [
    "file = open('Paths/terrain_path_100x100.txt', 'r')\n",
    "lines = file.readlines()\n",
    "file.close()\n",
    "path = []\n",
    "\n",
    "for line in lines:\n",
    "    data = line.split()\n",
    "    node = ParseNode(data)\n",
    "    path.append(node)"
   ]
  },
  {
   "cell_type": "code",
   "execution_count": 50,
   "metadata": {},
   "outputs": [
    {
     "data": {
      "image/png": "[encoded data removed]",
      "text/plain": [
       "<Figure size 432x288 with 1 Axes>"
      ]
     },
     "metadata": {
      "needs_background": "light"
     },
     "output_type": "display_data"
    }
   ],
   "source": [
    "import matplotlib.pyplot as plt\n",
    "\n",
    "# for edge in edges:\n",
    "#     fromNode = edge.FromNode\n",
    "#     toNode = edge.ToNode\n",
    "#     plt.plot([edge.FromNode.X, edge.ToNode.X], [edge.FromNode.Y, edge.ToNode.Y], 'k-', alpha=0.1 )\n",
    "\n",
    "for idx in range(0, len(path) - 1):\n",
    "    plt.plot([path[idx].X, path[idx+1].X], [path[idx].Y, path[idx+1].Y], 'r:', linewidth=2)\n",
    "\n",
    "plt.show()"
   ]
  },
  {
   "cell_type": "code",
   "execution_count": 59,
   "metadata": {},
   "outputs": [
    {
     "data": {
      "image/png": "[encoded data removed]",
      "text/plain": [
       "<Figure size 432x288 with 1 Axes>"
      ]
     },
     "metadata": {
      "needs_background": "light"
     },
     "output_type": "display_data"
    }
   ],
   "source": [
    "import math\n",
    "import numpy as np\n",
    "\n",
    "def GetHeight(xGrid, yGrid):\n",
    "    #return np.cos(xGrid) * np.sin(yGrid) + 1\n",
    "    return np.cos(xGrid/10+3.14/2) * np.sin(yGrid/10) + 1\n",
    "\n",
    "stencil = np.arange(0, 101, 1)\n",
    "Y, X = np.meshgrid(stencil, stencil)\n",
    "Z = GetHeight(X, Y)\n",
    "\n",
    "# for edge in edges:\n",
    "#     fromNode = edge.FromNode\n",
    "#     toNode = edge.ToNode\n",
    "#     plt.plot([edge.FromNode.X, edge.ToNode.X], [edge.FromNode.Y, edge.ToNode.Y], 'k-', alpha=0.1 )\n",
    "\n",
    "h = plt.contourf(X, Y, Z, alpha=0.7)\n",
    "plt.axis('scaled')\n",
    "#plt.colorbar()\n",
    "\n",
    "for idx in range(0, len(path) - 1):\n",
    "    plt.plot([path[idx].X, path[idx+1].X], [path[idx].Y, path[idx+1].Y], 'r--', linewidth=2)\n",
    "\n",
    "plt.show()\n"
   ]
  }
 ],
 "metadata": {
  "interpreter": {
   "hash": "1e84df4a150030eabb55304e8d3648d8a41821864f4805c34fc15caee6f90a5e"
  },
  "kernelspec": {
   "display_name": "Python 3.10.4 64-bit",
   "name": "python3"
  },
  "language_info": {
   "codemirror_mode": {
    "name": "ipython",
    "version": 3
   },
   "file_extension": ".py",
   "mimetype": "text/x-python",
   "name": "python",
   "nbconvert_exporter": "python",
   "pygments_lexer": "ipython3",
   "version": "3.10.4"
  },
  "orig_nbformat": 4
 },
 "nbformat": 4,
 "nbformat_minor": 2
}
